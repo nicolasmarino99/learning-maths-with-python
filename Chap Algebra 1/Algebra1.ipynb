{
 "nbformat": 4,
 "nbformat_minor": 2,
 "metadata": {
  "language_info": {
   "name": "python",
   "codemirror_mode": {
    "name": "ipython",
    "version": 3
   },
   "version": "3.7.4-final"
  },
  "orig_nbformat": 2,
  "file_extension": ".py",
  "mimetype": "text/x-python",
  "name": "python",
  "npconvert_exporter": "python",
  "pygments_lexer": "ipython3",
  "version": 3,
  "kernelspec": {
   "name": "python37464bitanaconda3virtualenv5759cb53758a4a29890f9439ccb3831b",
   "display_name": "Python 3.7.4 64-bit ('anaconda3': virtualenv)"
  }
 },
 "cells": [
  {
   "cell_type": "markdown",
   "execution_count": null,
   "metadata": {},
   "outputs": [
    {
     "evalue": "Error: Jupyter cannot be started. Error attempting to locate jupyter: Error: Module 'notebook' not installed.",
     "output_type": "error"
    }
   ],
   "source": [
    "# Greatest common denominator exercise\n",
    "- Ilustrate the following property using symbolic variables $$gcd(\\color{Violet}{c}\\color{ForestGreen}a, \\color{Violet}c\\color{ForestGreen}b) = \\color{Violet}{c}(gcd(\\color{ForestGreen}{a},\\color{ForestGreen}{b}))$$"
   ]
  },
  {
   "cell_type": "code",
   "execution_count": 54,
   "metadata": {},
   "outputs": [
    {
     "name": "stdout",
     "output_type": "stream",
     "text": "c\n"
    }
   ],
   "source": [
    "import sympy as sym\n",
    "import numpy as np\n",
    "from IPython.display import display,Math\n",
    "from sympy.abc import *\n",
    "import math\n",
    "\n",
    "\n",
    "#display(Math(sym.latex(sym.gcd(a*c,b*c))))\n",
    "print(sym.gcd(a*c,b*c))"
   ]
  },
  {
   "cell_type": "markdown",
   "execution_count": null,
   "metadata": {},
   "outputs": [],
   "source": [
    "- Create a matrix that contains 10 rows and 15 columns where each element is equal to 99 -> Done.\n",
    "- Populate the matrix such that the i row and j column contains $gcd(i+1,j+1)$"
   ]
  },
  {
   "cell_type": "code",
   "execution_count": 49,
   "metadata": {},
   "outputs": [
    {
     "data": {
      "text/latex": "$\\displaystyle \\left[\\begin{array}1 & 1 & 1 & 1 & 1 & 1 & 1 & 1 & 1 & 1 & 1 & 1 & 1 & 1 & 1\\\\1 & 2 & 1 & 2 & 1 & 2 & 1 & 2 & 1 & 2 & 1 & 2 & 1 & 2 & 1\\\\1 & 1 & 3 & 1 & 1 & 3 & 1 & 1 & 3 & 1 & 1 & 3 & 1 & 1 & 3\\\\1 & 2 & 1 & 4 & 1 & 2 & 1 & 4 & 1 & 2 & 1 & 4 & 1 & 2 & 1\\\\1 & 1 & 1 & 1 & 5 & 1 & 1 & 1 & 1 & 5 & 1 & 1 & 1 & 1 & 5\\\\1 & 2 & 3 & 2 & 1 & 6 & 1 & 2 & 3 & 2 & 1 & 6 & 1 & 2 & 3\\\\1 & 1 & 1 & 1 & 1 & 1 & 7 & 1 & 1 & 1 & 1 & 1 & 1 & 7 & 1\\\\1 & 2 & 1 & 4 & 1 & 2 & 1 & 8 & 1 & 2 & 1 & 4 & 1 & 2 & 1\\\\1 & 1 & 3 & 1 & 1 & 3 & 1 & 1 & 9 & 1 & 1 & 3 & 1 & 1 & 3\\\\1 & 2 & 1 & 2 & 5 & 2 & 1 & 2 & 1 & 10 & 1 & 2 & 1 & 2 & 5\\end{array}\\right]$",
      "text/plain": "<IPython.core.display.Math object>"
     },
     "metadata": {},
     "output_type": "display_data"
    }
   ],
   "source": [
    "rows = 10\n",
    "cols = 15\n",
    "matrix = np.zeros((rows,cols),dtype=int)\n",
    "for i in range(rows):\n",
    "    for j in range(cols):\n",
    "        matrix[i][j] = math.gcd(i+1,j+1)\n",
    "display(Math(sym.latex(sym.sympify(matrix))))"
   ]
  },
  {
   "cell_type": "markdown",
   "execution_count": null,
   "metadata": {},
   "outputs": [],
   "source": [
    "### Dictionary exercise\n",
    "- Solving equations."
   ]
  },
  {
   "cell_type": "code",
   "execution_count": 55,
   "metadata": {},
   "outputs": [
    {
     "data": {
      "text/latex": "$\\displaystyle x^{2} + x + 1 = \\left[ - \\frac{1}{2} - \\frac{\\sqrt{3} i}{2}, \\  - \\frac{1}{2} + \\frac{\\sqrt{3} i}{2}\\right]$",
      "text/plain": "<IPython.core.display.Math object>"
     },
     "metadata": {},
     "output_type": "display_data"
    },
    {
     "data": {
      "text/latex": "$\\displaystyle 4 x^{3} + 6 - \\frac{7}{x} = \\left[ - \\frac{\\sqrt{- \\frac{7}{6 \\sqrt[3]{\\frac{9}{64} + \\frac{\\sqrt{72417}}{576}}} + 2 \\sqrt[3]{\\frac{9}{64} + \\frac{\\sqrt{72417}}{576}}}}{2} + \\frac{\\sqrt{- 2 \\sqrt[3]{\\frac{9}{64} + \\frac{\\sqrt{72417}}{576}} + \\frac{7}{6 \\sqrt[3]{\\frac{9}{64} + \\frac{\\sqrt{72417}}{576}}} + \\frac{3}{\\sqrt{- \\frac{7}{6 \\sqrt[3]{\\frac{9}{64} + \\frac{\\sqrt{72417}}{576}}} + 2 \\sqrt[3]{\\frac{9}{64} + \\frac{\\sqrt{72417}}{576}}}}}}{2}, \\  \\frac{\\sqrt{- \\frac{7}{6 \\sqrt[3]{\\frac{9}{64} + \\frac{\\sqrt{72417}}{576}}} + 2 \\sqrt[3]{\\frac{9}{64} + \\frac{\\sqrt{72417}}{576}}}}{2} - \\frac{\\sqrt{- \\frac{3}{\\sqrt{- \\frac{7}{6 \\sqrt[3]{\\frac{9}{64} + \\frac{\\sqrt{72417}}{576}}} + 2 \\sqrt[3]{\\frac{9}{64} + \\frac{\\sqrt{72417}}{576}}}} - 2 \\sqrt[3]{\\frac{9}{64} + \\frac{\\sqrt{72417}}{576}} + \\frac{7}{6 \\sqrt[3]{\\frac{9}{64} + \\frac{\\sqrt{72417}}{576}}}}}{2}, \\  \\frac{\\sqrt{- \\frac{7}{6 \\sqrt[3]{\\frac{9}{64} + \\frac{\\sqrt{72417}}{576}}} + 2 \\sqrt[3]{\\frac{9}{64} + \\frac{\\sqrt{72417}}{576}}}}{2} + \\frac{\\sqrt{- \\frac{3}{\\sqrt{- \\frac{7}{6 \\sqrt[3]{\\frac{9}{64} + \\frac{\\sqrt{72417}}{576}}} + 2 \\sqrt[3]{\\frac{9}{64} + \\frac{\\sqrt{72417}}{576}}}} - 2 \\sqrt[3]{\\frac{9}{64} + \\frac{\\sqrt{72417}}{576}} + \\frac{7}{6 \\sqrt[3]{\\frac{9}{64} + \\frac{\\sqrt{72417}}{576}}}}}{2}, \\  - \\frac{\\sqrt{- 2 \\sqrt[3]{\\frac{9}{64} + \\frac{\\sqrt{72417}}{576}} + \\frac{7}{6 \\sqrt[3]{\\frac{9}{64} + \\frac{\\sqrt{72417}}{576}}} + \\frac{3}{\\sqrt{- \\frac{7}{6 \\sqrt[3]{\\frac{9}{64} + \\frac{\\sqrt{72417}}{576}}} + 2 \\sqrt[3]{\\frac{9}{64} + \\frac{\\sqrt{72417}}{576}}}}}}{2} - \\frac{\\sqrt{- \\frac{7}{6 \\sqrt[3]{\\frac{9}{64} + \\frac{\\sqrt{72417}}{576}}} + 2 \\sqrt[3]{\\frac{9}{64} + \\frac{\\sqrt{72417}}{576}}}}{2}\\right]$",
      "text/plain": "<IPython.core.display.Math object>"
     },
     "metadata": {},
     "output_type": "display_data"
    },
    {
     "data": {
      "text/latex": "$\\displaystyle x^{5} + x^{4} + x^{3} = \\left[ 0, \\  - \\frac{1}{2} - \\frac{\\sqrt{3} i}{2}, \\  - \\frac{1}{2} + \\frac{\\sqrt{3} i}{2}\\right]$",
      "text/plain": "<IPython.core.display.Math object>"
     },
     "metadata": {},
     "output_type": "display_data"
    }
   ],
   "source": [
    "D = dict(e1 = [x ** 2 + x + 1], e2 = [ 4*x**3 - 7/x + 6], e3 =[ x**5 + x**4 + x**3 ])\n",
    "for i in D:\n",
    "    display(Math(sym.latex(D[i][0])+' = '+sym.latex(sym.solve(D[i][0]))))"
   ]
  },
  {
   "cell_type": "code",
   "execution_count": null,
   "metadata": {},
   "outputs": [],
   "source": []
  }
 ]
}