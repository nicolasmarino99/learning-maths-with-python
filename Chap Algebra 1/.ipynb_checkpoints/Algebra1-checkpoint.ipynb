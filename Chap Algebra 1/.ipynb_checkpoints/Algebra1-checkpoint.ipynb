{
 "cells": [
  {
   "cell_type": "markdown",
   "metadata": {},
   "source": [
    "# Greatest common denominator exercise\n",
    "- Ilustrate the following property using symbolic variables $$gcd(\\color{Violet}{c}\\color{ForestGreen}a, \\color{Violet}c\\color{ForestGreen}b) = \\color{Violet}{c}(gcd(\\color{ForestGreen}{a},\\color{ForestGreen}{b}))$$"
   ]
  },
  {
   "cell_type": "code",
   "execution_count": 29,
   "metadata": {},
   "outputs": [
    {
     "name": "stdout",
     "output_type": "stream",
     "text": [
      "c\n"
     ]
    }
   ],
   "source": [
    "import sympy as sym\n",
    "import numpy as np\n",
    "from IPython.display import display,Math\n",
    "from sympy.abc import *\n",
    "import math\n",
    "\n",
    "\n",
    "#display(Math(sym.latex(sym.gcd(a*c,b*c))))\n",
    "print(sym.gcd(a*c,b*c))"
   ]
  },
  {
   "cell_type": "markdown",
   "metadata": {},
   "source": [
    "- Create a matrix that contains 10 rows and 15 columns where each element is equal to 99 -> Done.\n",
    "- Populate the matrix such that the i row and j column contains $gcd(i+1,j+1)$"
   ]
  },
  {
   "cell_type": "code",
   "execution_count": 49,
   "metadata": {},
   "outputs": [
    {
     "data": {
      "text/latex": [
       "$\\displaystyle \\left[\\begin{array}1 & 1 & 1 & 1 & 1 & 1 & 1 & 1 & 1 & 1 & 1 & 1 & 1 & 1 & 1\\\\1 & 2 & 1 & 2 & 1 & 2 & 1 & 2 & 1 & 2 & 1 & 2 & 1 & 2 & 1\\\\1 & 1 & 3 & 1 & 1 & 3 & 1 & 1 & 3 & 1 & 1 & 3 & 1 & 1 & 3\\\\1 & 2 & 1 & 4 & 1 & 2 & 1 & 4 & 1 & 2 & 1 & 4 & 1 & 2 & 1\\\\1 & 1 & 1 & 1 & 5 & 1 & 1 & 1 & 1 & 5 & 1 & 1 & 1 & 1 & 5\\\\1 & 2 & 3 & 2 & 1 & 6 & 1 & 2 & 3 & 2 & 1 & 6 & 1 & 2 & 3\\\\1 & 1 & 1 & 1 & 1 & 1 & 7 & 1 & 1 & 1 & 1 & 1 & 1 & 7 & 1\\\\1 & 2 & 1 & 4 & 1 & 2 & 1 & 8 & 1 & 2 & 1 & 4 & 1 & 2 & 1\\\\1 & 1 & 3 & 1 & 1 & 3 & 1 & 1 & 9 & 1 & 1 & 3 & 1 & 1 & 3\\\\1 & 2 & 1 & 2 & 5 & 2 & 1 & 2 & 1 & 10 & 1 & 2 & 1 & 2 & 5\\end{array}\\right]$"
      ],
      "text/plain": [
       "<IPython.core.display.Math object>"
      ]
     },
     "metadata": {},
     "output_type": "display_data"
    }
   ],
   "source": [
    "rows = 10\n",
    "cols = 15\n",
    "matrix = np.zeros((rows,cols),dtype=int)\n",
    "for i in range(rows):\n",
    "    for j in range(cols):\n",
    "        matrix[i][j] = math.gcd(i+1,j+1)\n",
    "display(Math(sym.latex(sym.sympify(matrix))))"
   ]
  },
  {
   "cell_type": "markdown",
   "metadata": {},
   "source": [
    "### Dictionary exercise\n",
    "- Solving equations."
   ]
  },
  {
   "cell_type": "code",
   "execution_count": 55,
   "metadata": {},
   "outputs": [
    {
     "data": {
      "text/latex": [
       "$\\displaystyle x^{2} + x + 1 = \\left[ - \\frac{1}{2} - \\frac{\\sqrt{3} i}{2}, \\  - \\frac{1}{2} + \\frac{\\sqrt{3} i}{2}\\right]$"
      ],
      "text/plain": [
       "<IPython.core.display.Math object>"
      ]
     },
     "metadata": {},
     "output_type": "display_data"
    },
    {
     "data": {
      "text/latex": [
       "$\\displaystyle 4 x^{3} + 6 - \\frac{7}{x} = \\left[ - \\frac{\\sqrt{- \\frac{7}{6 \\sqrt[3]{\\frac{9}{64} + \\frac{\\sqrt{72417}}{576}}} + 2 \\sqrt[3]{\\frac{9}{64} + \\frac{\\sqrt{72417}}{576}}}}{2} + \\frac{\\sqrt{- 2 \\sqrt[3]{\\frac{9}{64} + \\frac{\\sqrt{72417}}{576}} + \\frac{7}{6 \\sqrt[3]{\\frac{9}{64} + \\frac{\\sqrt{72417}}{576}}} + \\frac{3}{\\sqrt{- \\frac{7}{6 \\sqrt[3]{\\frac{9}{64} + \\frac{\\sqrt{72417}}{576}}} + 2 \\sqrt[3]{\\frac{9}{64} + \\frac{\\sqrt{72417}}{576}}}}}}{2}, \\  \\frac{\\sqrt{- \\frac{7}{6 \\sqrt[3]{\\frac{9}{64} + \\frac{\\sqrt{72417}}{576}}} + 2 \\sqrt[3]{\\frac{9}{64} + \\frac{\\sqrt{72417}}{576}}}}{2} - \\frac{\\sqrt{- \\frac{3}{\\sqrt{- \\frac{7}{6 \\sqrt[3]{\\frac{9}{64} + \\frac{\\sqrt{72417}}{576}}} + 2 \\sqrt[3]{\\frac{9}{64} + \\frac{\\sqrt{72417}}{576}}}} - 2 \\sqrt[3]{\\frac{9}{64} + \\frac{\\sqrt{72417}}{576}} + \\frac{7}{6 \\sqrt[3]{\\frac{9}{64} + \\frac{\\sqrt{72417}}{576}}}}}{2}, \\  \\frac{\\sqrt{- \\frac{7}{6 \\sqrt[3]{\\frac{9}{64} + \\frac{\\sqrt{72417}}{576}}} + 2 \\sqrt[3]{\\frac{9}{64} + \\frac{\\sqrt{72417}}{576}}}}{2} + \\frac{\\sqrt{- \\frac{3}{\\sqrt{- \\frac{7}{6 \\sqrt[3]{\\frac{9}{64} + \\frac{\\sqrt{72417}}{576}}} + 2 \\sqrt[3]{\\frac{9}{64} + \\frac{\\sqrt{72417}}{576}}}} - 2 \\sqrt[3]{\\frac{9}{64} + \\frac{\\sqrt{72417}}{576}} + \\frac{7}{6 \\sqrt[3]{\\frac{9}{64} + \\frac{\\sqrt{72417}}{576}}}}}{2}, \\  - \\frac{\\sqrt{- 2 \\sqrt[3]{\\frac{9}{64} + \\frac{\\sqrt{72417}}{576}} + \\frac{7}{6 \\sqrt[3]{\\frac{9}{64} + \\frac{\\sqrt{72417}}{576}}} + \\frac{3}{\\sqrt{- \\frac{7}{6 \\sqrt[3]{\\frac{9}{64} + \\frac{\\sqrt{72417}}{576}}} + 2 \\sqrt[3]{\\frac{9}{64} + \\frac{\\sqrt{72417}}{576}}}}}}{2} - \\frac{\\sqrt{- \\frac{7}{6 \\sqrt[3]{\\frac{9}{64} + \\frac{\\sqrt{72417}}{576}}} + 2 \\sqrt[3]{\\frac{9}{64} + \\frac{\\sqrt{72417}}{576}}}}{2}\\right]$"
      ],
      "text/plain": [
       "<IPython.core.display.Math object>"
      ]
     },
     "metadata": {},
     "output_type": "display_data"
    },
    {
     "data": {
      "text/latex": [
       "$\\displaystyle x^{5} + x^{4} + x^{3} = \\left[ 0, \\  - \\frac{1}{2} - \\frac{\\sqrt{3} i}{2}, \\  - \\frac{1}{2} + \\frac{\\sqrt{3} i}{2}\\right]$"
      ],
      "text/plain": [
       "<IPython.core.display.Math object>"
      ]
     },
     "metadata": {},
     "output_type": "display_data"
    }
   ],
   "source": [
    "D = dict(e1 = [x ** 2 + x + 1], e2 = [ 4*x**3 - 7/x + 6], e3 =[ x**5 + x**4 + x**3 ])\n",
    "for i in D:\n",
    "    display(Math(sym.latex(D[i][0])+' = '+sym.latex(sym.solve(D[i][0]))))"
   ]
  },
  {
   "cell_type": "markdown",
   "metadata": {},
   "source": [
    "### Check when a number is prime"
   ]
  },
  {
   "cell_type": "code",
   "execution_count": 31,
   "metadata": {},
   "outputs": [
    {
     "name": "stdout",
     "output_type": "stream",
     "text": [
      "[0, 1, 2, 3, 4, 5, 6, 7, 8, 9, 10, 11, 12, 13, 14, 15, 16, 17, 18, 19, 20, 21, 22, 23, 24, 25, 26, 27, 28, 29, 30, 31, 32, 33, 34, 35, 36, 37, 38, 39, 40, 41, 42, 43, 44, 45, 46, 47, 48, 49, 50]\n"
     ]
    }
   ],
   "source": [
    "interval = list(range(0,51))\n",
    "for i in range(0,51):\n",
    "    sym.factorint(i)"
   ]
  },
  {
   "cell_type": "code",
   "execution_count": 34,
   "metadata": {},
   "outputs": [
    {
     "ename": "NameError",
     "evalue": "name 'key' is not defined",
     "output_type": "error",
     "traceback": [
      "\u001b[0;31m---------------------------------------------------------------------------\u001b[0m",
      "\u001b[0;31mNameError\u001b[0m                                 Traceback (most recent call last)",
      "\u001b[0;32m<ipython-input-34-a64dc3633646>\u001b[0m in \u001b[0;36m<module>\u001b[0;34m\u001b[0m\n\u001b[0;32m----> 1\u001b[0;31m \u001b[0msym\u001b[0m\u001b[0;34m.\u001b[0m\u001b[0mfactorint\u001b[0m\u001b[0;34m(\u001b[0m\u001b[0;36m50\u001b[0m\u001b[0;34m)\u001b[0m\u001b[0;34m[\u001b[0m\u001b[0mkey\u001b[0m\u001b[0;34m]\u001b[0m\u001b[0;34m\u001b[0m\u001b[0;34m\u001b[0m\u001b[0m\n\u001b[0m",
      "\u001b[0;31mNameError\u001b[0m: name 'key' is not defined"
     ]
    }
   ],
   "source": [
    "sym.factorint(50)[key]"
   ]
  },
  {
   "cell_type": "code",
   "execution_count": null,
   "metadata": {},
   "outputs": [],
   "source": []
  }
 ],
 "metadata": {
  "file_extension": ".py",
  "kernelspec": {
   "display_name": "Python 3.7.4 64-bit ('anaconda3': virtualenv)",
   "language": "python",
   "name": "python37464bitanaconda3virtualenv5759cb53758a4a29890f9439ccb3831b"
  },
  "language_info": {
   "codemirror_mode": {
    "name": "ipython",
    "version": 3
   },
   "file_extension": ".py",
   "mimetype": "text/x-python",
   "name": "python",
   "nbconvert_exporter": "python",
   "pygments_lexer": "ipython3",
   "version": "3.7.4"
  },
  "mimetype": "text/x-python",
  "name": "python",
  "npconvert_exporter": "python",
  "pygments_lexer": "ipython3",
  "version": 3
 },
 "nbformat": 4,
 "nbformat_minor": 2
}
